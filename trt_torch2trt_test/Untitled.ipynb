{
 "cells": [
  {
   "cell_type": "code",
   "execution_count": 2,
   "id": "16de39bd",
   "metadata": {},
   "outputs": [],
   "source": [
    "import os \n",
    "os.mkdir('/DATA_17/ij/trt_torch2trt_test/1')"
   ]
  },
  {
   "cell_type": "code",
   "execution_count": 4,
   "id": "5925af25",
   "metadata": {},
   "outputs": [
    {
     "name": "stdout",
     "output_type": "stream",
     "text": [
      "is already exists, remove it\n"
     ]
    }
   ],
   "source": [
    "if not os.path.exists('/DATA_17/ij/trt_torch2trt_test/2'):\n",
    "    print('is already exists, remove it')"
   ]
  },
  {
   "cell_type": "code",
   "execution_count": 12,
   "id": "e6de4393",
   "metadata": {},
   "outputs": [
    {
     "name": "stdout",
     "output_type": "stream",
     "text": [
      "dd\n",
      "{}\n"
     ]
    }
   ],
   "source": [
    "result = {2: {'bbox': [[161, 276, 946, 720]], 'label': [1]}, 4: {'bbox': [[160, 273, 947, 722]], 'label': [1]}}\n",
    "a = len(result.keys())\n",
    "\n",
    "if a == 2 :\n",
    "    print('dd')\n",
    "    result = {}\n",
    "    print(result)"
   ]
  },
  {
   "cell_type": "code",
   "execution_count": null,
   "id": "408284bc",
   "metadata": {},
   "outputs": [],
   "source": []
  }
 ],
 "metadata": {
  "kernelspec": {
   "display_name": "Python 3",
   "language": "python",
   "name": "python3"
  },
  "language_info": {
   "codemirror_mode": {
    "name": "ipython",
    "version": 3
   },
   "file_extension": ".py",
   "mimetype": "text/x-python",
   "name": "python",
   "nbconvert_exporter": "python",
   "pygments_lexer": "ipython3",
   "version": "3.6.9"
  }
 },
 "nbformat": 4,
 "nbformat_minor": 5
}
