{
 "cells": [
  {
   "cell_type": "code",
   "execution_count": 1,
   "id": "928353dc",
   "metadata": {},
   "outputs": [],
   "source": [
    "import os, random, sys, argparse\n",
    "# sys.path.append('/DATA/xaiva/model/line3/tensorrt_workspace/yolox/yolox')\n",
    "import torch, cv2, glob, numpy as np\n",
    "import torch.backends.cudnn as cudnn\n",
    "\n",
    "from yolox.exp import get_exp\n",
    "from yolox.data import ValTransform\n",
    "from yolox.utils import (\n",
    "    postprocess\n",
    ")\n",
    "from torch2trt import torch2trt\n"
   ]
  },
  {
   "cell_type": "code",
   "execution_count": 2,
   "id": "50430b3f",
   "metadata": {},
   "outputs": [],
   "source": [
    "exp_name = 'yolox-m'\n",
    "exp = get_exp(None, exp_name)\n",
    "model = exp.get_model().eval().cuda()\n",
    "weights = 'yolox_m.pth'"
   ]
  },
  {
   "cell_type": "code",
   "execution_count": 3,
   "id": "b439e07a",
   "metadata": {},
   "outputs": [
    {
     "name": "stdout",
     "output_type": "stream",
     "text": [
      "load model..\n"
     ]
    }
   ],
   "source": [
    "ckpt = torch.load(weights, map_location='cuda')\n",
    "model.load_state_dict(ckpt['model'])\n",
    "model.to('cuda').eval()\n",
    "print ('load model..')"
   ]
  },
  {
   "cell_type": "code",
   "execution_count": 4,
   "id": "08fe6217",
   "metadata": {},
   "outputs": [],
   "source": [
    "x = torch.ones((1, 3, 640, 640)).to(torch.device('cuda'))\n",
    "model.head.decode_in_inference = False"
   ]
  },
  {
   "cell_type": "code",
   "execution_count": 5,
   "id": "920effd9",
   "metadata": {},
   "outputs": [
    {
     "name": "stdout",
     "output_type": "stream",
     "text": [
      "convert trt..\n",
      "max_batch_size 24\n",
      "self.engine <tensorrt.tensorrt.ICudaEngine object at 0x7f5f54dc9970>\n"
     ]
    },
    {
     "ename": "TypeError",
     "evalue": "a bytes-like object is required, not 'tensorrt.tensorrt.ICudaEngine'",
     "output_type": "error",
     "traceback": [
      "\u001b[0;31m---------------------------------------------------------------------------\u001b[0m",
      "\u001b[0;31mTypeError\u001b[0m                                 Traceback (most recent call last)",
      "\u001b[0;32m/tmp/ipykernel_11223/495165791.py\u001b[0m in \u001b[0;36m<module>\u001b[0;34m\u001b[0m\n\u001b[1;32m      4\u001b[0m         \u001b[0;34m[\u001b[0m\u001b[0mx\u001b[0m\u001b[0;34m]\u001b[0m\u001b[0;34m,\u001b[0m\u001b[0;34m\u001b[0m\u001b[0;34m\u001b[0m\u001b[0m\n\u001b[1;32m      5\u001b[0m         \u001b[0mfp16_mode\u001b[0m\u001b[0;34m=\u001b[0m\u001b[0;32mTrue\u001b[0m\u001b[0;34m,\u001b[0m\u001b[0;34m\u001b[0m\u001b[0;34m\u001b[0m\u001b[0m\n\u001b[0;32m----> 6\u001b[0;31m         \u001b[0mmax_batch_size\u001b[0m\u001b[0;34m=\u001b[0m\u001b[0;36m24\u001b[0m\u001b[0;34m,\u001b[0m\u001b[0;34m\u001b[0m\u001b[0;34m\u001b[0m\u001b[0m\n\u001b[0m\u001b[1;32m      7\u001b[0m     )\n",
      "\u001b[0;32m/opt/conda/lib/python3.7/site-packages/torch2trt-0.3.0-py3.7.egg/torch2trt/torch2trt.py\u001b[0m in \u001b[0;36mtorch2trt\u001b[0;34m(module, inputs, input_names, output_names, log_level, max_batch_size, fp16_mode, max_workspace_size, strict_type_constraints, keep_network, int8_mode, int8_calib_dataset, int8_calib_algorithm, int8_calib_batch_size, use_onnx, **kwargs)\u001b[0m\n\u001b[1;32m    599\u001b[0m     \u001b[0mmodule_trt\u001b[0m \u001b[0;34m=\u001b[0m \u001b[0mTRTModule\u001b[0m\u001b[0;34m(\u001b[0m\u001b[0mengine\u001b[0m\u001b[0;34m,\u001b[0m \u001b[0minput_names\u001b[0m\u001b[0;34m,\u001b[0m \u001b[0moutput_names\u001b[0m\u001b[0;34m)\u001b[0m\u001b[0;34m\u001b[0m\u001b[0;34m\u001b[0m\u001b[0m\n\u001b[1;32m    600\u001b[0m     \u001b[0;32mwith\u001b[0m \u001b[0mopen\u001b[0m\u001b[0;34m(\u001b[0m\u001b[0;34m'/DATA_17/ij/torch2trt_engine.trt'\u001b[0m\u001b[0;34m,\u001b[0m \u001b[0;34m\"wb\"\u001b[0m\u001b[0;34m)\u001b[0m \u001b[0;32mas\u001b[0m \u001b[0mf\u001b[0m\u001b[0;34m:\u001b[0m\u001b[0;34m\u001b[0m\u001b[0;34m\u001b[0m\u001b[0m\n\u001b[0;32m--> 601\u001b[0;31m         \u001b[0mf\u001b[0m\u001b[0;34m.\u001b[0m\u001b[0mwrite\u001b[0m\u001b[0;34m(\u001b[0m\u001b[0mengine\u001b[0m\u001b[0;34m)\u001b[0m\u001b[0;34m\u001b[0m\u001b[0;34m\u001b[0m\u001b[0m\n\u001b[0m\u001b[1;32m    602\u001b[0m     \u001b[0;32mif\u001b[0m \u001b[0mkeep_network\u001b[0m\u001b[0;34m:\u001b[0m\u001b[0;34m\u001b[0m\u001b[0;34m\u001b[0m\u001b[0m\n\u001b[1;32m    603\u001b[0m         \u001b[0mmodule_trt\u001b[0m\u001b[0;34m.\u001b[0m\u001b[0mnetwork\u001b[0m \u001b[0;34m=\u001b[0m \u001b[0mnetwork\u001b[0m\u001b[0;34m\u001b[0m\u001b[0;34m\u001b[0m\u001b[0m\n",
      "\u001b[0;31mTypeError\u001b[0m: a bytes-like object is required, not 'tensorrt.tensorrt.ICudaEngine'"
     ]
    }
   ],
   "source": [
    "print ('convert trt..')\n",
    "model_trt = torch2trt(\n",
    "        model,\n",
    "        [x],\n",
    "        fp16_mode=True,\n",
    "        max_batch_size=24,\n",
    "    )"
   ]
  },
  {
   "cell_type": "code",
   "execution_count": null,
   "id": "1fbca16d",
   "metadata": {},
   "outputs": [],
   "source": [
    "print ('save trt..')\n",
    "output_path = 'yolox_m_ij.trt'\n",
    "torch.save(model_trt.state_dict(), output_path)"
   ]
  },
  {
   "cell_type": "code",
   "execution_count": null,
   "id": "d04dc584",
   "metadata": {},
   "outputs": [],
   "source": []
  }
 ],
 "metadata": {
  "kernelspec": {
   "display_name": "Python 3 (ipykernel)",
   "language": "python",
   "name": "python3"
  },
  "language_info": {
   "codemirror_mode": {
    "name": "ipython",
    "version": 3
   },
   "file_extension": ".py",
   "mimetype": "text/x-python",
   "name": "python",
   "nbconvert_exporter": "python",
   "pygments_lexer": "ipython3",
   "version": "3.7.11"
  }
 },
 "nbformat": 4,
 "nbformat_minor": 5
}
