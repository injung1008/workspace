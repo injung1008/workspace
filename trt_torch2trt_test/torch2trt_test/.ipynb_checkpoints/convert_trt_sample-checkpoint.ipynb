{
 "cells": [
  {
   "cell_type": "code",
   "execution_count": null,
   "id": "928353dc",
   "metadata": {},
   "outputs": [],
   "source": [
    "import os, random, sys, argparse\n",
    "# sys.path.append('/DATA/xaiva/model/line3/tensorrt_workspace/yolox/yolox')\n",
    "import torch, cv2, glob, numpy as np\n",
    "import torch.backends.cudnn as cudnn\n",
    "\n",
    "from yolox.exp import get_exp\n",
    "from yolox.data import ValTransform\n",
    "from yolox.utils import (\n",
    "    postprocess\n",
    ")\n",
    "from torch2trt import torch2trt\n"
   ]
  },
  {
   "cell_type": "code",
   "execution_count": null,
   "id": "50430b3f",
   "metadata": {},
   "outputs": [],
   "source": [
    "exp_name = 'yolox-m'\n",
    "exp = get_exp(None, exp_name)\n",
    "model = exp.get_model().eval().cuda()\n",
    "weights = 'yolox_m.pth'"
   ]
  },
  {
   "cell_type": "code",
   "execution_count": null,
   "id": "b439e07a",
   "metadata": {},
   "outputs": [],
   "source": [
    "ckpt = torch.load(weights, map_location='cuda')\n",
    "model.load_state_dict(ckpt['model'])\n",
    "model.to('cuda').eval()\n",
    "print ('load model..')"
   ]
  },
  {
   "cell_type": "code",
   "execution_count": null,
   "id": "08fe6217",
   "metadata": {},
   "outputs": [],
   "source": [
    "x = torch.ones((1, 3, 640, 640)).to(torch.device('cuda'))\n",
    "model.head.decode_in_inference = False"
   ]
  },
  {
   "cell_type": "code",
   "execution_count": null,
   "id": "920effd9",
   "metadata": {},
   "outputs": [],
   "source": [
    "print ('convert trt..')\n",
    "model_trt = torch2trt(\n",
    "        model,\n",
    "        [x],\n",
    "        fp16_mode=True,\n",
    "        max_batch_size=24\n",
    "    )"
   ]
  },
  {
   "cell_type": "code",
   "execution_count": null,
   "id": "1fbca16d",
   "metadata": {},
   "outputs": [],
   "source": [
    "print ('save trt..')\n",
    "output_path = 'yolox_m_fp16_batch24_2.trtpth'\n",
    "torch.save(model_trt.state_dict(), output_path)"
   ]
  },
  {
   "cell_type": "code",
   "execution_count": null,
   "id": "d04dc584",
   "metadata": {},
   "outputs": [],
   "source": []
  }
 ],
 "metadata": {
  "kernelspec": {
   "display_name": "Python 3 (ipykernel)",
   "language": "python",
   "name": "python3"
  },
  "language_info": {
   "codemirror_mode": {
    "name": "ipython",
    "version": 3
   },
   "file_extension": ".py",
   "mimetype": "text/x-python",
   "name": "python",
   "nbconvert_exporter": "python",
   "pygments_lexer": "ipython3",
   "version": "3.7.11"
  }
 },
 "nbformat": 4,
 "nbformat_minor": 5
}
