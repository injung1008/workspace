{
 "cells": [
  {
   "cell_type": "code",
   "execution_count": null,
   "id": "3c4afe22",
   "metadata": {},
   "outputs": [],
   "source": [
    "def load_engine(runtime,engine_path):\n",
    "    trt.init_libnvinfer_plugins(None, \"\")             \n",
    "    with open(engine_path, 'rb') as f:\n",
    "        engine_data = f.read()\n",
    "    engine = runtime.deserialize_cuda_engine(engine_data)\n",
    "    return engine\n",
    "\n",
    "\n",
    "def make_context(trt_engine_path):\n",
    "    logger = trt.Logger(trt.Logger.WARNING)\n",
    "    runtime = trt.Runtime(logger)\n",
    "\n",
    "    self.engine = self.load_engine(runtime,trt_engine_path)\n",
    "\n",
    "    self.context = self.engine.create_execution_context()\n",
    "\n",
    "    self.input_shape = self.engine.get_profile_shape(0,0)[2]\n",
    "    self.out_shape1 = self.engine.get_binding_shape(1)\n",
    "    self.out_shape2 = self.engine.get_binding_shape(2)\n",
    "    self.out_shape3 = self.engine.get_binding_shape(3)\n",
    "    \n",
    "make_context()"
   ]
  }
 ],
 "metadata": {
  "kernelspec": {
   "display_name": "Python 3 (ipykernel)",
   "language": "python",
   "name": "python3"
  },
  "language_info": {
   "codemirror_mode": {
    "name": "ipython",
    "version": 3
   },
   "file_extension": ".py",
   "mimetype": "text/x-python",
   "name": "python",
   "nbconvert_exporter": "python",
   "pygments_lexer": "ipython3",
   "version": "3.7.11"
  }
 },
 "nbformat": 4,
 "nbformat_minor": 5
}
