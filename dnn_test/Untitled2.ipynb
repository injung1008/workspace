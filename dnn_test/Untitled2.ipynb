{
 "cells": [
  {
   "cell_type": "code",
   "execution_count": 1,
   "id": "3d204942",
   "metadata": {},
   "outputs": [
    {
     "name": "stderr",
     "output_type": "stream",
     "text": [
      "[TensorRT] WARNING: TensorRT was linked against cuDNN 8.2.1 but loaded cuDNN 8.2.0\n",
      "[TensorRT] WARNING: TensorRT was linked against cuDNN 8.2.1 but loaded cuDNN 8.2.0\n"
     ]
    },
    {
     "name": "stdout",
     "output_type": "stream",
     "text": [
      "torch.Size([1, 17, 96, 72])\n",
      "pred [[[ 297.92807   -128.51799  ]\n",
      "  [ 356.34534    335.8993   ]\n",
      "  [ 213.22302    271.6403   ]\n",
      "  [ 204.46043    -67.179855 ]\n",
      "  [   8.76259   -151.8849   ]\n",
      "  [  58.417267    14.604317 ]\n",
      "  [ 321.29498    -87.6259   ]\n",
      "  [  -1.4604317  381.17267  ]\n",
      "  [  55.496407   110.99281  ]\n",
      "  [ 210.30217    -26.287771 ]\n",
      "  [ 385.554      -93.46763  ]\n",
      "  [ 116.83453   -148.96404  ]\n",
      "  [ 330.05756    137.28058  ]\n",
      "  [ 248.27339    370.94965  ]\n",
      "  [ 242.43166    125.59713  ]\n",
      "  [ 338.82016    -32.129498 ]\n",
      "  [ 214.68346   -162.10793  ]]] [[[0.7127587 ]\n",
      "  [0.56746113]\n",
      "  [0.6752232 ]\n",
      "  [0.7574669 ]\n",
      "  [0.60639846]\n",
      "  [0.31293523]\n",
      "  [0.81085485]\n",
      "  [0.68588465]\n",
      "  [0.6921054 ]\n",
      "  [0.7536959 ]\n",
      "  [0.68472755]\n",
      "  [0.3873716 ]\n",
      "  [0.80384564]\n",
      "  [0.7203406 ]\n",
      "  [0.82655203]\n",
      "  [0.855325  ]\n",
      "  [0.79164916]]] ['BACK']\n"
     ]
    },
    {
     "name": "stderr",
     "output_type": "stream",
     "text": [
      "[TensorRT] ERROR: 1: [hardwareContext.cpp::configure::92] Error Code 1: Cudnn (CUDNN_STATUS_MAPPING_ERROR)\n"
     ]
    }
   ],
   "source": [
    "from hrnet import HRNET_POSE\n",
    "import os\n",
    "import sys\n",
    "import time\n",
    "import logging\n",
    "import json\n",
    "import ast\n",
    "\n",
    "import cv2 as cv\n",
    "from PIL import Image\n",
    "import numpy as np\n",
    "\n",
    "import torch\n",
    "from torch.backends import cudnn\n",
    "import torch.nn as nn\n",
    "import torch.optim as optim\n",
    "import torch.nn.functional as F\n",
    "from sklearn.preprocessing import MinMaxScaler\n",
    "from hrnet import HRNET_POSE\n",
    "import torch.nn as nn\n",
    "import torch.optim as optim\n",
    "import torch.nn.functional as F\n",
    "import os\n",
    "import torch\n",
    "\n",
    "\n",
    "trt_path = './hrnet4_int8_064.trt'\n",
    "hrn = HRNET_POSE()\n",
    "\n",
    "\n",
    "\n",
    "img_path = './falldown.png'  \n",
    "\n",
    "img = cv.imread(img_path)\n",
    "img_list = [img for _ in range(1)]\n",
    "\n",
    "\n",
    "hrn.load(trt_path)\n",
    "    \n",
    "input_data = hrn.preprocess(img_list)\n",
    "\n",
    "\n",
    "output_data = hrn.inference(input_data)\n",
    "\n",
    "\n",
    "pred, maxvals, frontback = hrn.postprocess(output_data)\n",
    "\n",
    "print('pred', pred, maxvals, frontback)"
   ]
  },
  {
   "cell_type": "code",
   "execution_count": null,
   "id": "4e3730a4",
   "metadata": {},
   "outputs": [],
   "source": []
  }
 ],
 "metadata": {
  "kernelspec": {
   "display_name": "Python 3 (ipykernel)",
   "language": "python",
   "name": "python3"
  },
  "language_info": {
   "codemirror_mode": {
    "name": "ipython",
    "version": 3
   },
   "file_extension": ".py",
   "mimetype": "text/x-python",
   "name": "python",
   "nbconvert_exporter": "python",
   "pygments_lexer": "ipython3",
   "version": "3.7.11"
  }
 },
 "nbformat": 4,
 "nbformat_minor": 5
}
