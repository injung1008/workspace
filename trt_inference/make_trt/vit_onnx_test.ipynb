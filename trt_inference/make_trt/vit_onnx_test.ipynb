{
 "cells": [
  {
   "cell_type": "code",
   "execution_count": 12,
   "id": "0afbcca0",
   "metadata": {},
   "outputs": [
    {
     "name": "stdout",
     "output_type": "stream",
     "text": [
      "Requirement already satisfied: pip in /opt/conda/lib/python3.7/site-packages (22.1.2)\n",
      "\u001b[33mWARNING: Running pip as the 'root' user can result in broken permissions and conflicting behaviour with the system package manager. It is recommended to use a virtual environment instead: https://pip.pypa.io/warnings/venv\u001b[0m\u001b[33m\n",
      "\u001b[0mRequirement already satisfied: onnx-simplifier in /opt/conda/lib/python3.7/site-packages/onnx_simplifier-0.3.5-py3.7.egg (0.3.5)\n",
      "Requirement already satisfied: onnx in /opt/conda/lib/python3.7/site-packages/onnx-1.8.1-py3.7-linux-x86_64.egg (from onnx-simplifier) (1.8.1)\n",
      "Requirement already satisfied: onnxoptimizer>=0.2.5 in /opt/conda/lib/python3.7/site-packages/onnxoptimizer-0.2.7-py3.7-linux-x86_64.egg (from onnx-simplifier) (0.2.7)\n",
      "Requirement already satisfied: onnxruntime>=1.6.0 in /opt/conda/lib/python3.7/site-packages/onnxruntime-1.8.0-py3.7-linux-x86_64.egg (from onnx-simplifier) (1.8.0)\n",
      "Requirement already satisfied: protobuf>=3.7.0 in /opt/conda/lib/python3.7/site-packages/protobuf-4.21.1-py3.7.egg (from onnx-simplifier) (4.21.1)\n",
      "Requirement already satisfied: flatbuffers in /opt/conda/lib/python3.7/site-packages/flatbuffers-2.0-py3.7.egg (from onnxruntime>=1.6.0->onnx-simplifier) (2.0)\n",
      "Requirement already satisfied: numpy>=1.16.6 in /opt/conda/lib/python3.7/site-packages (from onnxruntime>=1.6.0->onnx-simplifier) (1.21.2)\n",
      "Requirement already satisfied: six in /opt/conda/lib/python3.7/site-packages (from onnx->onnx-simplifier) (1.16.0)\n",
      "Requirement already satisfied: typing-extensions>=3.6.2.1 in /opt/conda/lib/python3.7/site-packages (from onnx->onnx-simplifier) (4.2.0)\n",
      "\u001b[33mWARNING: Running pip as the 'root' user can result in broken permissions and conflicting behaviour with the system package manager. It is recommended to use a virtual environment instead: https://pip.pypa.io/warnings/venv\u001b[0m\u001b[33m\n",
      "\u001b[0m"
     ]
    },
    {
     "name": "stderr",
     "output_type": "stream",
     "text": [
      "2022-06-23 19:11:38.286455809 [E:onnxruntime:, inference_session.cc:1340 operator()] Exception during initialization: /onnxruntime_src/onnxruntime/core/providers/cpu/nn/batch_norm.h:52 onnxruntime::BatchNorm<T>::BatchNorm(const onnxruntime::OpKernelInfo&) [with T = float] !is_train_ was false. Training mode is not supported in this build.\n",
      "\n"
     ]
    },
    {
     "ename": "RuntimeException",
     "evalue": "[ONNXRuntimeError] : 6 : RUNTIME_EXCEPTION : Exception during initialization: /onnxruntime_src/onnxruntime/core/providers/cpu/nn/batch_norm.h:52 onnxruntime::BatchNorm<T>::BatchNorm(const onnxruntime::OpKernelInfo&) [with T = float] !is_train_ was false. Training mode is not supported in this build.\n",
     "output_type": "error",
     "traceback": [
      "\u001b[0;31m---------------------------------------------------------------------------\u001b[0m",
      "\u001b[0;31mRuntimeException\u001b[0m                          Traceback (most recent call last)",
      "\u001b[0;32m/tmp/ipykernel_6051/1674956597.py\u001b[0m in \u001b[0;36m<module>\u001b[0;34m\u001b[0m\n\u001b[1;32m      7\u001b[0m \u001b[0;34m\u001b[0m\u001b[0m\n\u001b[1;32m      8\u001b[0m \u001b[0;31m# convert model\u001b[0m\u001b[0;34m\u001b[0m\u001b[0;34m\u001b[0m\u001b[0;34m\u001b[0m\u001b[0m\n\u001b[0;32m----> 9\u001b[0;31m \u001b[0mmodel_simp\u001b[0m\u001b[0;34m,\u001b[0m \u001b[0mcheck\u001b[0m \u001b[0;34m=\u001b[0m \u001b[0msimplify\u001b[0m\u001b[0;34m(\u001b[0m\u001b[0mmodel\u001b[0m\u001b[0;34m)\u001b[0m\u001b[0;34m\u001b[0m\u001b[0;34m\u001b[0m\u001b[0m\n\u001b[0m\u001b[1;32m     10\u001b[0m \u001b[0;34m\u001b[0m\u001b[0m\n\u001b[1;32m     11\u001b[0m \u001b[0;32massert\u001b[0m \u001b[0mcheck\u001b[0m\u001b[0;34m,\u001b[0m \u001b[0;34m\"Simplified ONNX model could not be validated\"\u001b[0m\u001b[0;34m\u001b[0m\u001b[0;34m\u001b[0m\u001b[0m\n",
      "\u001b[0;32m/opt/conda/lib/python3.7/site-packages/onnx_simplifier-0.3.5-py3.7.egg/onnxsim/onnx_simplifier.py\u001b[0m in \u001b[0;36msimplify\u001b[0;34m(model, check_n, perform_optimization, skip_fuse_bn, input_shapes, skipped_optimizers, skip_shape_inference, input_data, dynamic_input_shape, custom_lib)\u001b[0m\n\u001b[1;32m    481\u001b[0m         \u001b[0;32mreturn\u001b[0m \u001b[0mmodel\u001b[0m\u001b[0;34m\u001b[0m\u001b[0;34m\u001b[0m\u001b[0m\n\u001b[1;32m    482\u001b[0m \u001b[0;34m\u001b[0m\u001b[0m\n\u001b[0;32m--> 483\u001b[0;31m     \u001b[0mmodel\u001b[0m \u001b[0;34m=\u001b[0m \u001b[0mfixed_point\u001b[0m\u001b[0;34m(\u001b[0m\u001b[0mmodel\u001b[0m\u001b[0;34m,\u001b[0m \u001b[0minfer_shapes_and_optimize\u001b[0m\u001b[0;34m,\u001b[0m \u001b[0mconstant_folding\u001b[0m\u001b[0;34m)\u001b[0m\u001b[0;34m\u001b[0m\u001b[0;34m\u001b[0m\u001b[0m\n\u001b[0m\u001b[1;32m    484\u001b[0m \u001b[0;34m\u001b[0m\u001b[0m\n\u001b[1;32m    485\u001b[0m     \u001b[0;31m# Overwrite model input shape\u001b[0m\u001b[0;34m\u001b[0m\u001b[0;34m\u001b[0m\u001b[0;34m\u001b[0m\u001b[0m\n",
      "\u001b[0;32m/opt/conda/lib/python3.7/site-packages/onnx_simplifier-0.3.5-py3.7.egg/onnxsim/onnx_simplifier.py\u001b[0m in \u001b[0;36mfixed_point\u001b[0;34m(x, func_a, func_b)\u001b[0m\n\u001b[1;32m    382\u001b[0m     \"\"\"\n\u001b[1;32m    383\u001b[0m     \u001b[0mx\u001b[0m \u001b[0;34m=\u001b[0m \u001b[0mfunc_a\u001b[0m\u001b[0;34m(\u001b[0m\u001b[0mx\u001b[0m\u001b[0;34m)\u001b[0m\u001b[0;34m\u001b[0m\u001b[0;34m\u001b[0m\u001b[0m\n\u001b[0;32m--> 384\u001b[0;31m     \u001b[0mx\u001b[0m \u001b[0;34m=\u001b[0m \u001b[0mfunc_b\u001b[0m\u001b[0;34m(\u001b[0m\u001b[0mx\u001b[0m\u001b[0;34m)\u001b[0m\u001b[0;34m\u001b[0m\u001b[0;34m\u001b[0m\u001b[0m\n\u001b[0m\u001b[1;32m    385\u001b[0m     \u001b[0;32mwhile\u001b[0m \u001b[0;32mTrue\u001b[0m\u001b[0;34m:\u001b[0m\u001b[0;34m\u001b[0m\u001b[0;34m\u001b[0m\u001b[0m\n\u001b[1;32m    386\u001b[0m         \u001b[0my\u001b[0m \u001b[0;34m=\u001b[0m \u001b[0mfunc_a\u001b[0m\u001b[0;34m(\u001b[0m\u001b[0mx\u001b[0m\u001b[0;34m)\u001b[0m\u001b[0;34m\u001b[0m\u001b[0;34m\u001b[0m\u001b[0m\n",
      "\u001b[0;32m/opt/conda/lib/python3.7/site-packages/onnx_simplifier-0.3.5-py3.7.egg/onnxsim/onnx_simplifier.py\u001b[0m in \u001b[0;36mconstant_folding\u001b[0;34m(model)\u001b[0m\n\u001b[1;32m    475\u001b[0m                                        \u001b[0minput_shapes\u001b[0m\u001b[0;34m=\u001b[0m\u001b[0mupdated_input_shapes\u001b[0m\u001b[0;34m,\u001b[0m\u001b[0;34m\u001b[0m\u001b[0;34m\u001b[0m\u001b[0m\n\u001b[1;32m    476\u001b[0m                                        \u001b[0minput_data\u001b[0m\u001b[0;34m=\u001b[0m\u001b[0minput_data\u001b[0m\u001b[0;34m,\u001b[0m\u001b[0;34m\u001b[0m\u001b[0;34m\u001b[0m\u001b[0m\n\u001b[0;32m--> 477\u001b[0;31m                                        custom_lib=custom_lib)\n\u001b[0m\u001b[1;32m    478\u001b[0m         \u001b[0mconst_nodes\u001b[0m \u001b[0;34m=\u001b[0m \u001b[0mclean_constant_nodes\u001b[0m\u001b[0;34m(\u001b[0m\u001b[0mconst_nodes\u001b[0m\u001b[0;34m,\u001b[0m \u001b[0mres\u001b[0m\u001b[0;34m)\u001b[0m\u001b[0;34m\u001b[0m\u001b[0;34m\u001b[0m\u001b[0m\n\u001b[1;32m    479\u001b[0m         \u001b[0mmodel\u001b[0m \u001b[0;34m=\u001b[0m \u001b[0meliminate_const_nodes\u001b[0m\u001b[0;34m(\u001b[0m\u001b[0mmodel\u001b[0m\u001b[0;34m,\u001b[0m \u001b[0mconst_nodes\u001b[0m\u001b[0;34m,\u001b[0m \u001b[0mres\u001b[0m\u001b[0;34m)\u001b[0m\u001b[0;34m\u001b[0m\u001b[0;34m\u001b[0m\u001b[0m\n",
      "\u001b[0;32m/opt/conda/lib/python3.7/site-packages/onnx_simplifier-0.3.5-py3.7.egg/onnxsim/onnx_simplifier.py\u001b[0m in \u001b[0;36mforward_for_node_outputs\u001b[0;34m(model, nodes, input_shapes, input_data, custom_lib)\u001b[0m\n\u001b[1;32m    230\u001b[0m                   \u001b[0minput_data\u001b[0m\u001b[0;34m=\u001b[0m\u001b[0minput_data\u001b[0m\u001b[0;34m,\u001b[0m\u001b[0;34m\u001b[0m\u001b[0;34m\u001b[0m\u001b[0m\n\u001b[1;32m    231\u001b[0m                   \u001b[0minput_shapes\u001b[0m\u001b[0;34m=\u001b[0m\u001b[0minput_shapes\u001b[0m\u001b[0;34m,\u001b[0m\u001b[0;34m\u001b[0m\u001b[0;34m\u001b[0m\u001b[0m\n\u001b[0;32m--> 232\u001b[0;31m                   custom_lib=custom_lib)\n\u001b[0m\u001b[1;32m    233\u001b[0m     \u001b[0;32mreturn\u001b[0m \u001b[0mres\u001b[0m\u001b[0;34m\u001b[0m\u001b[0;34m\u001b[0m\u001b[0m\n\u001b[1;32m    234\u001b[0m \u001b[0;34m\u001b[0m\u001b[0m\n",
      "\u001b[0;32m/opt/conda/lib/python3.7/site-packages/onnx_simplifier-0.3.5-py3.7.egg/onnxsim/onnx_simplifier.py\u001b[0m in \u001b[0;36mforward\u001b[0;34m(model, input_data, input_shapes, custom_lib)\u001b[0m\n\u001b[1;32m    196\u001b[0m     \u001b[0msess_options\u001b[0m\u001b[0;34m.\u001b[0m\u001b[0mlog_severity_level\u001b[0m \u001b[0;34m=\u001b[0m \u001b[0;36m3\u001b[0m\u001b[0;34m\u001b[0m\u001b[0;34m\u001b[0m\u001b[0m\n\u001b[1;32m    197\u001b[0m     sess = rt.InferenceSession(model.SerializeToString(\n\u001b[0;32m--> 198\u001b[0;31m     ), sess_options=sess_options, providers=['CPUExecutionProvider'])\n\u001b[0m\u001b[1;32m    199\u001b[0m \u001b[0;34m\u001b[0m\u001b[0m\n\u001b[1;32m    200\u001b[0m     \u001b[0minput_names\u001b[0m \u001b[0;34m=\u001b[0m \u001b[0mget_input_names\u001b[0m\u001b[0;34m(\u001b[0m\u001b[0mmodel\u001b[0m\u001b[0;34m)\u001b[0m\u001b[0;34m\u001b[0m\u001b[0;34m\u001b[0m\u001b[0m\n",
      "\u001b[0;32m/opt/conda/lib/python3.7/site-packages/onnxruntime-1.8.0-py3.7-linux-x86_64.egg/onnxruntime/capi/onnxruntime_inference_collection.py\u001b[0m in \u001b[0;36m__init__\u001b[0;34m(self, path_or_bytes, sess_options, providers, provider_options, **kwargs)\u001b[0m\n\u001b[1;32m    281\u001b[0m \u001b[0;34m\u001b[0m\u001b[0m\n\u001b[1;32m    282\u001b[0m         \u001b[0;32mtry\u001b[0m\u001b[0;34m:\u001b[0m\u001b[0;34m\u001b[0m\u001b[0;34m\u001b[0m\u001b[0m\n\u001b[0;32m--> 283\u001b[0;31m             \u001b[0mself\u001b[0m\u001b[0;34m.\u001b[0m\u001b[0m_create_inference_session\u001b[0m\u001b[0;34m(\u001b[0m\u001b[0mproviders\u001b[0m\u001b[0;34m,\u001b[0m \u001b[0mprovider_options\u001b[0m\u001b[0;34m,\u001b[0m \u001b[0mdisabled_optimizers\u001b[0m\u001b[0;34m)\u001b[0m\u001b[0;34m\u001b[0m\u001b[0;34m\u001b[0m\u001b[0m\n\u001b[0m\u001b[1;32m    284\u001b[0m         \u001b[0;32mexcept\u001b[0m \u001b[0mValueError\u001b[0m\u001b[0;34m:\u001b[0m\u001b[0;34m\u001b[0m\u001b[0;34m\u001b[0m\u001b[0m\n\u001b[1;32m    285\u001b[0m             \u001b[0;32mif\u001b[0m \u001b[0mself\u001b[0m\u001b[0;34m.\u001b[0m\u001b[0m_enable_fallback\u001b[0m\u001b[0;34m:\u001b[0m\u001b[0;34m\u001b[0m\u001b[0;34m\u001b[0m\u001b[0m\n",
      "\u001b[0;32m/opt/conda/lib/python3.7/site-packages/onnxruntime-1.8.0-py3.7-linux-x86_64.egg/onnxruntime/capi/onnxruntime_inference_collection.py\u001b[0m in \u001b[0;36m_create_inference_session\u001b[0;34m(self, providers, provider_options, disabled_optimizers)\u001b[0m\n\u001b[1;32m    319\u001b[0m \u001b[0;34m\u001b[0m\u001b[0m\n\u001b[1;32m    320\u001b[0m         \u001b[0;31m# initialize the C++ InferenceSession\u001b[0m\u001b[0;34m\u001b[0m\u001b[0;34m\u001b[0m\u001b[0;34m\u001b[0m\u001b[0m\n\u001b[0;32m--> 321\u001b[0;31m         \u001b[0msess\u001b[0m\u001b[0;34m.\u001b[0m\u001b[0minitialize_session\u001b[0m\u001b[0;34m(\u001b[0m\u001b[0mproviders\u001b[0m\u001b[0;34m,\u001b[0m \u001b[0mprovider_options\u001b[0m\u001b[0;34m,\u001b[0m \u001b[0mdisabled_optimizers\u001b[0m\u001b[0;34m)\u001b[0m\u001b[0;34m\u001b[0m\u001b[0;34m\u001b[0m\u001b[0m\n\u001b[0m\u001b[1;32m    322\u001b[0m \u001b[0;34m\u001b[0m\u001b[0m\n\u001b[1;32m    323\u001b[0m         \u001b[0mself\u001b[0m\u001b[0;34m.\u001b[0m\u001b[0m_sess\u001b[0m \u001b[0;34m=\u001b[0m \u001b[0msess\u001b[0m\u001b[0;34m\u001b[0m\u001b[0;34m\u001b[0m\u001b[0m\n",
      "\u001b[0;31mRuntimeException\u001b[0m: [ONNXRuntimeError] : 6 : RUNTIME_EXCEPTION : Exception during initialization: /onnxruntime_src/onnxruntime/core/providers/cpu/nn/batch_norm.h:52 onnxruntime::BatchNorm<T>::BatchNorm(const onnxruntime::OpKernelInfo&) [with T = float] !is_train_ was false. Training mode is not supported in this build.\n"
     ]
    }
   ],
   "source": [
    "!pip3 install -U pip && pip3 install onnx-simplifier\n",
    "import onnx\n",
    "from onnxsim import simplify\n",
    "\n",
    "# load your predefined ONNX model\n",
    "model = onnx.load('/DATA_17/ij/trt_inference/make_trt/helmet_vit.onnx')\n",
    "\n",
    "# convert model\n",
    "model_simp, check = simplify(model)\n",
    "\n",
    "assert check, \"Simplified ONNX model could not be validated\"\n",
    "\n",
    "# use model_simp as a standard ONNX model object"
   ]
  },
  {
   "cell_type": "code",
   "execution_count": 7,
   "id": "37a7bbf3",
   "metadata": {},
   "outputs": [],
   "source": [
    "\n",
    "\n",
    "import onnx\n",
    "model = onnx.load('/DATA_17/ij/trt_inference/make_trt/helmet_vit.onnx')\n",
    "model2 = onnx.load('/DATA_17/ij/trt_inference/make_trt/helmet2.onnx')\n",
    "model3 = onnx.load('/DATA_17/ij/trt_inference/make_trt/yolox_m.onnx')\n",
    "#opt.input_shape = [int(s) for s in str(model.graph.input[0].type.tensor_type.shape.dim).split() if s.isdigit()]"
   ]
  },
  {
   "cell_type": "code",
   "execution_count": 8,
   "id": "f6f34f4b",
   "metadata": {},
   "outputs": [
    {
     "name": "stdout",
     "output_type": "stream",
     "text": [
      "[dim_param: \"batch_size\"\n",
      ", dim_value: 3\n",
      ", dim_value: 224\n",
      ", dim_value: 224\n",
      "]\n"
     ]
    }
   ],
   "source": [
    "print(model.graph.input[0].type.tensor_type.shape.dim)"
   ]
  },
  {
   "cell_type": "code",
   "execution_count": 9,
   "id": "752a1e3f",
   "metadata": {},
   "outputs": [
    {
     "name": "stdout",
     "output_type": "stream",
     "text": [
      "[dim_param: \"batch_size\"\n",
      ", dim_value: 3\n",
      ", dim_value: 256\n",
      ", dim_value: 128\n",
      "]\n"
     ]
    }
   ],
   "source": [
    "print(model2.graph.input[0].type.tensor_type.shape.dim)"
   ]
  },
  {
   "cell_type": "code",
   "execution_count": 10,
   "id": "a11a6a12",
   "metadata": {},
   "outputs": [
    {
     "name": "stdout",
     "output_type": "stream",
     "text": [
      "[dim_param: \"batch_size\"\n",
      ", dim_value: 3\n",
      ", dim_value: 640\n",
      ", dim_value: 640\n",
      "]\n"
     ]
    }
   ],
   "source": [
    "print(model3.graph.input[0].type.tensor_type.shape.dim)"
   ]
  },
  {
   "cell_type": "code",
   "execution_count": null,
   "id": "2aaabf07",
   "metadata": {},
   "outputs": [],
   "source": []
  }
 ],
 "metadata": {
  "kernelspec": {
   "display_name": "Python 3 (ipykernel)",
   "language": "python",
   "name": "python3"
  },
  "language_info": {
   "codemirror_mode": {
    "name": "ipython",
    "version": 3
   },
   "file_extension": ".py",
   "mimetype": "text/x-python",
   "name": "python",
   "nbconvert_exporter": "python",
   "pygments_lexer": "ipython3",
   "version": "3.7.11"
  }
 },
 "nbformat": 4,
 "nbformat_minor": 5
}
