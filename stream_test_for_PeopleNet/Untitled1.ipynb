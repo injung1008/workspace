{
 "cells": [
  {
   "cell_type": "code",
   "execution_count": 1,
   "id": "e7b5705b",
   "metadata": {},
   "outputs": [
    {
     "name": "stdout",
     "output_type": "stream",
     "text": [
      "Traceback (most recent call last):\n",
      "  File \"<string>\", line 1, in <module>\n",
      "  File \"/opt/conda/lib/python3.7/multiprocessing/spawn.py\", line 105, in spawn_main\n",
      "    exitcode = _main(fd)\n",
      "  File \"/opt/conda/lib/python3.7/multiprocessing/spawn.py\", line 115, in _main\n",
      "    self = reduction.pickle.load(from_parent)\n",
      "  File \"/opt/conda/lib/python3.7/multiprocessing/synchronize.py\", line 110, in __setstate__\n",
      "    self._semlock = _multiprocessing.SemLock._rebuild(*state)\n",
      "FileNotFoundError: [Errno 2] No such file or directory\n",
      "make time : 36.273842096328735\n",
      "make time : 0.0025756359100341797\n",
      "make time : 0.0023822784423828125\n",
      "data send start time : 1674108862.9924417\n",
      "data send end time : 1674108862.9933338\n",
      "data send diff time : 0.0008921623229980469\n",
      "data send start time : 1674108867.9984365\n",
      "data send end time : 1674108867.9985065\n",
      "data send diff time : 7.009506225585938e-05\n",
      "data send start time : 1674108873.0528505\n",
      "data send end time : 1674108873.0529206\n",
      "data send diff time : 7.009506225585938e-05\n",
      "data send start time : 1674108878.7772715\n",
      "data send end time : 1674108878.7773438\n",
      "data send diff time : 7.224082946777344e-05\n",
      "data send start time : 1674108883.783102\n",
      "data send end time : 1674108883.7831793\n",
      "data send diff time : 7.724761962890625e-05\n",
      "data send start time : 1674108888.7883685\n",
      "data send end time : 1674108888.7884421\n",
      "data send diff time : 7.367134094238281e-05\n",
      "data send start time : 1674108893.7941995\n",
      "data send end time : 1674108893.79427\n",
      "data send diff time : 7.05718994140625e-05\n",
      "data send start time : 1674108898.799979\n",
      "data send end time : 1674108898.8000627\n",
      "data send diff time : 8.368492126464844e-05\n",
      "data send start time : 1674108903.8052573\n",
      "data send end time : 1674108903.8053281\n",
      "data send diff time : 7.081031799316406e-05\n",
      "data send start time : 1674108908.81104\n",
      "data send end time : 1674108908.8111246\n",
      "data send diff time : 8.463859558105469e-05\n",
      "data send start time : 1674108913.8163266\n",
      "data send end time : 1674108913.8164098\n",
      "data send diff time : 8.320808410644531e-05\n",
      "data send start time : 1674108918.8216674\n",
      "data send end time : 1674108918.8217518\n",
      "data send diff time : 8.440017700195312e-05\n",
      "data send start time : 1674108923.8269486\n",
      "data send end time : 1674108923.827019\n",
      "data send diff time : 7.033348083496094e-05\n",
      "data send start time : 1674108928.8322077\n",
      "data send end time : 1674108928.8322914\n",
      "data send diff time : 8.368492126464844e-05\n",
      "data send start time : 1674108933.8339882\n",
      "data send end time : 1674108933.8340476\n",
      "data send diff time : 5.936622619628906e-05\n",
      "data send start time : 1674108938.839189\n",
      "data send end time : 1674108938.8392723\n",
      "data send diff time : 8.320808410644531e-05\n",
      "data send start time : 1674108943.8450303\n",
      "data send end time : 1674108943.8450987\n",
      "data send diff time : 6.842613220214844e-05\n",
      "data send start time : 1674108948.850295\n",
      "data send end time : 1674108948.850367\n",
      "data send diff time : 7.200241088867188e-05\n",
      "data send start time : 1674108953.8560438\n",
      "data send end time : 1674108953.8561287\n",
      "data send diff time : 8.487701416015625e-05\n",
      "data send start time : 1674108958.861328\n",
      "data send end time : 1674108958.8614118\n",
      "data send diff time : 8.392333984375e-05\n",
      "data send start time : 1674108963.8666072\n",
      "data send end time : 1674108963.8666897\n",
      "data send diff time : 8.249282836914062e-05\n",
      "data send start time : 1674108968.8718712\n",
      "data send end time : 1674108968.871942\n",
      "data send diff time : 7.081031799316406e-05\n",
      "data send start time : 1674108973.8776217\n",
      "data send end time : 1674108973.8777041\n",
      "data send diff time : 8.249282836914062e-05\n",
      "data send start time : 1674108978.8829002\n",
      "data send end time : 1674108978.8829825\n",
      "data send diff time : 8.225440979003906e-05\n",
      "data send start time : 1674108983.888627\n",
      "data send end time : 1674108983.8886876\n",
      "data send diff time : 6.0558319091796875e-05\n",
      "data send start time : 1674108988.8900285\n",
      "data send end time : 1674108988.8901105\n",
      "data send diff time : 8.20159912109375e-05\n",
      "data send start time : 1674108993.8952842\n",
      "data send end time : 1674108993.89535\n",
      "data send diff time : 6.580352783203125e-05\n",
      "data send start time : 1674108998.9009879\n",
      "data send end time : 1674108998.901056\n",
      "data send diff time : 6.818771362304688e-05\n",
      "data send start time : 1674109003.9067147\n",
      "data send end time : 1674109003.9067984\n",
      "data send diff time : 8.368492126464844e-05\n",
      "data send start time : 1674109008.9125874\n",
      "data send end time : 1674109008.912673\n",
      "data send diff time : 8.559226989746094e-05\n",
      "data send start time : 1674109013.918332\n",
      "data send end time : 1674109013.9184146\n",
      "data send diff time : 8.249282836914062e-05\n",
      "data send start time : 1674109018.923597\n",
      "data send end time : 1674109018.9236708\n",
      "data send diff time : 7.367134094238281e-05\n",
      "data send start time : 1674109023.9293547\n",
      "data send end time : 1674109023.9294379\n",
      "data send diff time : 8.320808410644531e-05\n",
      "data send start time : 1674109028.9340224\n",
      "data send end time : 1674109028.9341097\n",
      "data send diff time : 8.726119995117188e-05\n",
      "data send start time : 1674109033.939923\n",
      "data send end time : 1674109033.940007\n",
      "data send diff time : 8.392333984375e-05\n",
      "data send start time : 1674109038.945192\n",
      "data send end time : 1674109038.9452605\n",
      "data send diff time : 6.842613220214844e-05\n",
      "data send start time : 1674109043.9509974\n",
      "data send end time : 1674109043.9510796\n",
      "data send diff time : 8.225440979003906e-05\n",
      "data send start time : 1674109048.9568617\n",
      "data send end time : 1674109048.9569454\n",
      "data send diff time : 8.368492126464844e-05\n",
      "data send start time : 1674109053.9620035\n",
      "data send end time : 1674109053.962073\n",
      "data send diff time : 6.961822509765625e-05\n",
      "^C\n",
      "Traceback (most recent call last):\n",
      "  File \"test2.py\", line 51, in <module>\n",
      "    time.sleep(5)\n",
      "KeyboardInterrupt\n",
      "[W CudaIPCTypes.cpp:15] Producer process has been terminated before all shared CUDA tensors released. See Note [Sharing CUDA tensors]\n"
     ]
    }
   ],
   "source": [
    "!python3 test2.py"
   ]
  },
  {
   "cell_type": "code",
   "execution_count": 1,
   "id": "a57c81fd",
   "metadata": {},
   "outputs": [
    {
     "data": {
      "text/plain": [
       "0.0033388137817382812"
      ]
     },
     "execution_count": 1,
     "metadata": {},
     "output_type": "execute_result"
    }
   ],
   "source": [
    "data send start time : 1674093080.066585\n",
    "data send end time : 1674093080.0666678\n",
    "data send diff time : 8.273124694824219e-05\n",
    "Received data: 100 1674093080.069856\n"
   ]
  },
  {
   "cell_type": "code",
   "execution_count": 2,
   "id": "036a36c0",
   "metadata": {},
   "outputs": [
    {
     "data": {
      "text/plain": [
       "0.1655106544494629"
      ]
     },
     "execution_count": 2,
     "metadata": {},
     "output_type": "execute_result"
    }
   ],
   "source": [
    "\n",
    "1674092675.8533719 - 1674092675.6878612\n",
    "\n"
   ]
  },
  {
   "cell_type": "code",
   "execution_count": 3,
   "id": "15b07b64",
   "metadata": {},
   "outputs": [
    {
     "data": {
      "text/plain": [
       "0.003093242645263672"
      ]
     },
     "execution_count": 3,
     "metadata": {},
     "output_type": "execute_result"
    }
   ],
   "source": [
    "\n",
    "1674092690.708636 - 1674092690.7055428\n",
    "\n"
   ]
  },
  {
   "cell_type": "code",
   "execution_count": 2,
   "id": "75077e50",
   "metadata": {},
   "outputs": [
    {
     "data": {
      "text/plain": [
       "'1.10.1+cu113'"
      ]
     },
     "execution_count": 2,
     "metadata": {},
     "output_type": "execute_result"
    }
   ],
   "source": [
    "import torch\n",
    "\n",
    "torch.__version__"
   ]
  },
  {
   "cell_type": "code",
   "execution_count": 8,
   "id": "8e897b7e",
   "metadata": {},
   "outputs": [],
   "source": [
    "import torch\n",
    "\n",
    "a = torch.tensor([[0,0,1],[1,0,1]])\n",
    "b = torch.tensor([[1,0,1],[1,0,1]])\n",
    "c = a-b\n",
    "\n",
    "\n",
    "d = torch.count_nonzero(c)\n"
   ]
  },
  {
   "cell_type": "code",
   "execution_count": 9,
   "id": "4e70715b",
   "metadata": {},
   "outputs": [
    {
     "data": {
      "text/plain": [
       "tensor(1)"
      ]
     },
     "execution_count": 9,
     "metadata": {},
     "output_type": "execute_result"
    }
   ],
   "source": [
    "d"
   ]
  },
  {
   "cell_type": "code",
   "execution_count": 10,
   "id": "97be9a0f",
   "metadata": {},
   "outputs": [
    {
     "data": {
      "text/plain": [
       "tensor([[-1,  0,  0],\n",
       "        [ 0,  0,  0]])"
      ]
     },
     "execution_count": 10,
     "metadata": {},
     "output_type": "execute_result"
    }
   ],
   "source": [
    "c"
   ]
  },
  {
   "cell_type": "code",
   "execution_count": null,
   "id": "577254b4",
   "metadata": {},
   "outputs": [],
   "source": []
  }
 ],
 "metadata": {
  "kernelspec": {
   "display_name": "Python 3 (ipykernel)",
   "language": "python",
   "name": "python3"
  },
  "language_info": {
   "codemirror_mode": {
    "name": "ipython",
    "version": 3
   },
   "file_extension": ".py",
   "mimetype": "text/x-python",
   "name": "python",
   "nbconvert_exporter": "python",
   "pygments_lexer": "ipython3",
   "version": "3.7.11"
  }
 },
 "nbformat": 4,
 "nbformat_minor": 5
}
